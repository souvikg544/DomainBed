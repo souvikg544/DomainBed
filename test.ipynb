{
 "cells": [
  {
   "cell_type": "code",
   "execution_count": 6,
   "id": "53f124b5-1cc3-4763-81b5-d08303961114",
   "metadata": {},
   "outputs": [],
   "source": [
    "from emotions import detect_emotion, init\n",
    "import torch\n",
    "import cv2\n",
    "import numpy\n",
    "import torch.nn as nn\n",
    "import os"
   ]
  },
  {
   "cell_type": "code",
   "execution_count": 2,
   "id": "114b2072-991f-4ee3-9993-74782d43f11e",
   "metadata": {},
   "outputs": [],
   "source": [
    "image_path = '/home2/souvikg544/000004_00@en.jpg'\n",
    "image = cv2.imread(image_path, cv2.IMREAD_COLOR)"
   ]
  },
  {
   "cell_type": "code",
   "execution_count": 3,
   "id": "14e96f23-3ac0-4fc2-b1c5-fa9295d39e83",
   "metadata": {},
   "outputs": [],
   "source": [
    "init('cuda')"
   ]
  },
  {
   "cell_type": "code",
   "execution_count": 4,
   "id": "e66b1279-01c4-49ab-8431-8ffa443bb5e8",
   "metadata": {},
   "outputs": [
    {
     "data": {
      "text/plain": [
       "['neutral']"
      ]
     },
     "execution_count": 4,
     "metadata": {},
     "output_type": "execute_result"
    }
   ],
   "source": [
    "detect_emotion([image])"
   ]
  },
  {
   "cell_type": "code",
   "execution_count": 11,
   "id": "6fe38857-633d-43a1-95ea-6b55c3e35f6a",
   "metadata": {},
   "outputs": [],
   "source": [
    "l = os.listdir('/ssd_scratch/cvit/souvik/race_per_7000')"
   ]
  },
  {
   "cell_type": "code",
   "execution_count": 12,
   "id": "ef1fe45f-4dbd-46bb-ac11-f4aa70c38b0c",
   "metadata": {},
   "outputs": [
    {
     "data": {
      "text/plain": [
       "['Indian', 'Caucasian']"
      ]
     },
     "execution_count": 12,
     "metadata": {},
     "output_type": "execute_result"
    }
   ],
   "source": [
    "l[2:10]"
   ]
  },
  {
   "cell_type": "code",
   "execution_count": 14,
   "id": "25963985-4691-4244-9f15-3f8b2caa3699",
   "metadata": {},
   "outputs": [
    {
     "data": {
      "text/plain": [
       "'/home2/souvikg544/souvik/DomainBed/000004_00@en.jpg'"
      ]
     },
     "execution_count": 14,
     "metadata": {},
     "output_type": "execute_result"
    }
   ],
   "source": [
    "import shutil\n",
    "shutil.copy2(image_path, '/home2/souvikg544/souvik/DomainBed')"
   ]
  },
  {
   "cell_type": "code",
   "execution_count": 15,
   "id": "d74cb30f-990f-4cd7-826c-2b944e4d12b5",
   "metadata": {},
   "outputs": [],
   "source": [
    "emotions = [\"anger\",\"contempt\",\"disgust\",\"fear\",\"happy\",\"neutral\",\"sad\",\"surprise\"]"
   ]
  },
  {
   "cell_type": "code",
   "execution_count": 17,
   "id": "878502b8-213c-4e18-a6a1-7a1051f88ade",
   "metadata": {},
   "outputs": [],
   "source": [
    "for race in l:\n",
    "    for emotion in emotions:\n",
    "        os.makedirs(os.path.join('/ssd_scratch/cvit/souvik/balancedface',race,emotion),exist_ok=True)"
   ]
  },
  {
   "cell_type": "code",
   "execution_count": 10,
   "id": "f7a22a47-e444-43a6-882e-6a3c85ab4563",
   "metadata": {},
   "outputs": [],
   "source": [
    "import glob\n",
    "files = glob.glob('/ssd_scratch/cvit/souvik/balancedface/**/*.jpg',recursive = True)"
   ]
  },
  {
   "cell_type": "code",
   "execution_count": 11,
   "id": "4f1085ae-df9d-48c3-a8a1-79312bdc0e37",
   "metadata": {},
   "outputs": [
    {
     "data": {
      "text/plain": [
       "0"
      ]
     },
     "execution_count": 11,
     "metadata": {},
     "output_type": "execute_result"
    }
   ],
   "source": [
    "len(files)"
   ]
  },
  {
   "cell_type": "code",
   "execution_count": 9,
   "id": "863b3ab9-e797-4b07-b1a7-c09a5b8a1bbf",
   "metadata": {},
   "outputs": [],
   "source": [
    "for f in files:\n",
    "    os.remove(f)"
   ]
  },
  {
   "cell_type": "code",
   "execution_count": null,
   "id": "f0cbb119-9783-4034-999d-43d7495fd511",
   "metadata": {},
   "outputs": [],
   "source": []
  }
 ],
 "metadata": {
  "kernelspec": {
   "display_name": "lrw",
   "language": "python",
   "name": "lrw"
  },
  "language_info": {
   "codemirror_mode": {
    "name": "ipython",
    "version": 3
   },
   "file_extension": ".py",
   "mimetype": "text/x-python",
   "name": "python",
   "nbconvert_exporter": "python",
   "pygments_lexer": "ipython3",
   "version": "3.10.13"
  }
 },
 "nbformat": 4,
 "nbformat_minor": 5
}
